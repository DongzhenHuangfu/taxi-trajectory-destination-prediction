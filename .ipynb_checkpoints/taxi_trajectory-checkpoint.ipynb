{
 "cells": [
  {
   "cell_type": "markdown",
   "metadata": {},
   "source": [
    "## Import the labrary and define the function"
   ]
  },
  {
   "cell_type": "code",
   "execution_count": 2,
   "metadata": {},
   "outputs": [],
   "source": [
    "import glob\n",
    "import csv\n",
    "import pickle\n",
    "import numpy as np"
   ]
  },
  {
   "cell_type": "code",
   "execution_count": 36,
   "metadata": {},
   "outputs": [],
   "source": [
    "## define a function to translate the string data into a float list\n",
    "\n",
    "def str2array(string):    \n",
    "    together = ''\n",
    "    for i in string:\n",
    "        if(i != '['):\n",
    "            together += i\n",
    "    \n",
    "    first = together.split(\"],\")\n",
    "    ret = []\n",
    "    \n",
    "    for i in range(len(first)):\n",
    "        if(i==len(first)-1):\n",
    "            second = ''\n",
    "            for j in first[i]:\n",
    "                if(j!=']'):\n",
    "                    second += j\n",
    "            second = second.split(\",\")\n",
    "        else:\n",
    "            second = first[i].split(\",\")\n",
    "        ret.append([float(second[0]), float(second[1])])\n",
    "    return ret\n",
    "\n",
    "## define a function for exploring the maximum and minimum length of the track data\n",
    "\n",
    "def find_maxmin(data):\n",
    "    maximum = 0\n",
    "    minimum = 99999\n",
    "    for track in data:\n",
    "        if(len(track) > maximum):\n",
    "            maximum = len(track)\n",
    "        if(len(track) < minimum):\n",
    "            minimum = len(track)\n",
    "    return maximum, minimum\n",
    "\n",
    "## def a functino for exploring the distribution of the track length\n",
    "\n",
    "def count(data, number = 10, maximum = 4000):\n",
    "    count_num = []\n",
    "    part = maximum//number\n",
    "    level = part*np.array(range(1+number))\n",
    "    print(\"level is:\", level)\n",
    "    \n",
    "    for i in range(number):\n",
    "        count_num.append(0)\n",
    "    \n",
    "    for line in data:\n",
    "        for i in range(len(level)-1):\n",
    "            if((len(line) < level[i+1]) & (len(line) >= level[i])):\n",
    "                count_num[i] += 1\n",
    "                continue\n",
    "    return count_num\n",
    "\n",
    "## define a function for exploring the number of the track which is above a value\n",
    "\n",
    "def above(data, level):\n",
    "    count = 0\n",
    "    for line in data:\n",
    "        if(len(line)>=level):\n",
    "            count += 1            \n",
    "    return count\n",
    "\n",
    "## define a function for selecting track data\n",
    "\n",
    "def select_data(track, place):\n",
    "    ret = []\n",
    "    for i in place:\n",
    "        ret.append(track[i])\n",
    "    return ret\n",
    "\n",
    "def pick_data(data, data_length):\n",
    "    ret_train = []\n",
    "    ret_label = []\n",
    "    n = 0\n",
    "    for i in range(len(data)):\n",
    "        if(len(data[i]) > data_length):\n",
    "            split = len(data[i])//data_length\n",
    "            ret_train.append([])\n",
    "            for j in range(data_length):\n",
    "                ret_train[n].append(data[i][split*j])\n",
    "                ret_label.append(data[i][len(data[i])-1])\n",
    "            n += 1\n",
    "    return ret_train, ret_label"
   ]
  },
  {
   "cell_type": "markdown",
   "metadata": {},
   "source": [
    "## Import, process and save the data"
   ]
  },
  {
   "cell_type": "code",
   "execution_count": 12,
   "metadata": {},
   "outputs": [],
   "source": [
    "## read in the data and seperate it into two parts\n",
    "## (one set is the fully recorded data, the other one is the set of not complete data)\n",
    "files = glob.glob(\"./split_data/part*.csv\")\n",
    "data_false = []\n",
    "data_true = []\n",
    "for table in files:\n",
    "    with open(table,'r') as file:\n",
    "        lines = list(csv.reader(file))\n",
    "        for i in range(1, len(lines)):\n",
    "            if(len(lines[i])==0):\n",
    "                continue\n",
    "            if(lines[i][7]==\"False\"):\n",
    "                if(len(lines[i][8])==2):\n",
    "                    data_false.append([])\n",
    "                else:\n",
    "                    track = str2array(lines[i][8])\n",
    "                    data_false.append(track)\n",
    "            elif(lines[i][7]==\"True\"):\n",
    "                if(len(lines[i][8])==2):\n",
    "                    data_true.append([])\n",
    "                else:\n",
    "                    track = str2array(lines[i][8])\n",
    "                    data_true.append(track)"
   ]
  },
  {
   "cell_type": "code",
   "execution_count": 13,
   "metadata": {},
   "outputs": [],
   "source": [
    "## save the data into a pickle file\n",
    "data_dict = {'data_true': data_true, 'data_false': data_false}\n",
    "with open('./trackdata.pickle','wb') as file:\n",
    "    pickle.dump(data_dict, file)"
   ]
  },
  {
   "cell_type": "code",
   "execution_count": 4,
   "metadata": {},
   "outputs": [],
   "source": [
    "with open('./trackdata.pickle', 'rb') as file:\n",
    "    data_dict = pickle.load(file)\n",
    "    data_true = data_dict['data_true']\n",
    "    data_false = data_dict['data_false']    "
   ]
  },
  {
   "cell_type": "markdown",
   "metadata": {},
   "source": [
    "## Explore the maximum and minimum length of the track data"
   ]
  },
  {
   "cell_type": "code",
   "execution_count": 22,
   "metadata": {},
   "outputs": [
    {
     "name": "stdout",
     "output_type": "stream",
     "text": [
      "Track in data_false:\n",
      "Maximum: 3881, minimum: 0\n",
      "Track in data_true:\n",
      "Maximum: 483, minimum: 1\n"
     ]
    }
   ],
   "source": [
    "max_false, min_false = find_maxmin(data_false)\n",
    "max_true, min_true = find_maxmin(data_true)\n",
    "\n",
    "print(\"Track in data_false:\")\n",
    "print(\"Maximum: %d, minimum: %d\" % (max_false, min_false))\n",
    "\n",
    "print(\"Track in data_true:\")\n",
    "print(\"Maximum: %d, minimum: %d\" % (max_true, min_true))"
   ]
  },
  {
   "cell_type": "markdown",
   "metadata": {},
   "source": [
    "## Explore the distribution of the track length"
   ]
  },
  {
   "cell_type": "code",
   "execution_count": 38,
   "metadata": {},
   "outputs": [
    {
     "name": "stdout",
     "output_type": "stream",
     "text": [
      "level is: [   0  400  800 1200 1600 2000 2400 2800 3200 3600 4000]\n",
      "[1707207, 2808, 437, 105, 58, 26, 12, 2, 2, 3]\n"
     ]
    }
   ],
   "source": [
    "num_false = count(data_false)\n",
    "print(num_false)"
   ]
  },
  {
   "cell_type": "code",
   "execution_count": 39,
   "metadata": {},
   "outputs": [
    {
     "name": "stdout",
     "output_type": "stream",
     "text": [
      "The amount of the data_false is: 1710660\n"
     ]
    }
   ],
   "source": [
    "print(\"The amount of the data_false is:\", len(data_false))"
   ]
  },
  {
   "cell_type": "code",
   "execution_count": 40,
   "metadata": {},
   "outputs": [
    {
     "name": "stdout",
     "output_type": "stream",
     "text": [
      "level is: [  0  50 100 150 200 250 300 350 400 450 500]\n",
      "[6, 2, 0, 0, 0, 1, 0, 0, 0, 1]\n",
      "The amount of the data_true is: 10\n"
     ]
    }
   ],
   "source": [
    "num_true = count(data_true, maximum = 500)\n",
    "print(num_true)\n",
    "print(\"The amount of the data_true is:\", len(data_true))"
   ]
  },
  {
   "cell_type": "markdown",
   "metadata": {},
   "source": [
    "## FInd out how many tracks are about a value"
   ]
  },
  {
   "cell_type": "code",
   "execution_count": 28,
   "metadata": {},
   "outputs": [
    {
     "name": "stdout",
     "output_type": "stream",
     "text": [
      "Analyse the track data without missing points......\n",
      "The number of the track data without missing points is: 1710660\n",
      "\n",
      "The number of track with the length above 10 in data_true is: 1641024, 95.93%\n",
      "The number of track with the length above 15 in data_true is: 1600460, 93.56%\n",
      "The number of track with the length above 20 in data_true is: 1514478, 88.53%\n",
      "The number of track with the length above 30 in data_true is: 1233766, 72.12%\n",
      "The number of track with the length above 50 in data_true is: 628873, 36.76%\n",
      "The number of track with the length above 60 in data_true is: 416203, 24.33%\n",
      "The number of track with the length above 70 in data_true is: 273018, 15.96%\n",
      "The number of track with the length above 80 in data_true is: 183744, 10.74%\n",
      "The number of track with the length above 90 in data_true is: 128391, 7.51%\n",
      "The number of track with the length above 100 in data_true is: 93798, 5.48%\n",
      "The number of track with the length above 150 in data_true is: 30296, 1.77%\n",
      "The number of track with the length above 200 in data_true is: 15145, 0.89%\n",
      "The number of track with the length above 300 in data_true is: 6349, 0.37%\n"
     ]
    }
   ],
   "source": [
    "print(\"Analyse the track data without missing points......\")\n",
    "print(\"The number of the track data without missing points is:\", len(data_false))\n",
    "print()\n",
    "level_false = [10, 15, 20, 30, 50, 60, 70, 80, 90, 100, 150, 200, 300]\n",
    "for a in level_false:\n",
    "    number = above(data_false, a)\n",
    "    percent = number / len(data_false)\n",
    "    print(\"The number of track with the length above %d in data_true is: %d, %.2f%%\" % \n",
    "          ( a, number, percent*100))"
   ]
  },
  {
   "cell_type": "code",
   "execution_count": 29,
   "metadata": {},
   "outputs": [
    {
     "name": "stdout",
     "output_type": "stream",
     "text": [
      "Analyse the track data with missing points......\n",
      "The number of the track data with missing points is: 10\n",
      "\n",
      "The number of track with the length above 10 in data_true is: 8, 80.00%\n",
      "The number of track with the length above 20 in data_true is: 6, 60.00%\n",
      "The number of track with the length above 30 in data_true is: 5, 50.00%\n",
      "The number of track with the length above 50 in data_true is: 4, 40.00%\n",
      "The number of track with the length above 60 in data_true is: 2, 20.00%\n",
      "The number of track with the length above 300 in data_true is: 1, 10.00%\n"
     ]
    }
   ],
   "source": [
    "print(\"Analyse the track data with missing points......\")\n",
    "print(\"The number of the track data with missing points is:\", len(data_true))\n",
    "print()\n",
    "\n",
    "level_true = [10, 20, 30, 50, 60, 300]\n",
    "for a in level_true:\n",
    "    number = above(data_true, a)\n",
    "    percent = number / len(data_true)\n",
    "    print(\"The number of track with the length above %d in data_true is: %d, %.2f%%\" % \n",
    "          ( a, number, percent*100))"
   ]
  },
  {
   "cell_type": "markdown",
   "metadata": {},
   "source": [
    "## Selecte the data from the track"
   ]
  },
  {
   "cell_type": "code",
   "execution_count": 37,
   "metadata": {},
   "outputs": [
    {
     "name": "stdout",
     "output_type": "stream",
     "text": [
      "The number of useful data is: 1635931\n"
     ]
    }
   ],
   "source": [
    "## define the index array for selecting\n",
    "data_length = 10\n",
    "\n",
    "train_data, train_label = pick_data(data_false, data_length)\n",
    "print(\"The number of useful data is:\", len(train_data))"
   ]
  },
  {
   "cell_type": "code",
   "execution_count": 38,
   "metadata": {},
   "outputs": [
    {
     "name": "stdout",
     "output_type": "stream",
     "text": [
      "[[-8.618643, 41.141412], [-8.620326, 41.14251], [-8.623953, 41.144373], [-8.627373, 41.144697], [-8.632746, 41.14692], [-8.629938, 41.150385], [-8.629128, 41.15124], [-8.628687, 41.152374], [-8.630838, 41.15268], [-8.631144, 41.154489]]\n"
     ]
    }
   ],
   "source": [
    "print(train_data[0])"
   ]
  },
  {
   "cell_type": "code",
   "execution_count": null,
   "metadata": {},
   "outputs": [],
   "source": [
    "## split data into train, validation and test data"
   ]
  },
  {
   "cell_type": "code",
   "execution_count": null,
   "metadata": {},
   "outputs": [],
   "source": []
  }
 ],
 "metadata": {
  "anaconda-cloud": {},
  "kernelspec": {
   "display_name": "Python [default]",
   "language": "python",
   "name": "python3"
  },
  "language_info": {
   "codemirror_mode": {
    "name": "ipython",
    "version": 3
   },
   "file_extension": ".py",
   "mimetype": "text/x-python",
   "name": "python",
   "nbconvert_exporter": "python",
   "pygments_lexer": "ipython3",
   "version": "3.6.5"
  },
  "widgets": {
   "state": {},
   "version": "1.1.2"
  }
 },
 "nbformat": 4,
 "nbformat_minor": 1
}
