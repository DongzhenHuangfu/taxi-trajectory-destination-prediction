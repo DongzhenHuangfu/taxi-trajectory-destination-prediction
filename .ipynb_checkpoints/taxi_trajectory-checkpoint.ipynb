{
 "cells": [
  {
   "cell_type": "code",
   "execution_count": 2,
   "metadata": {},
   "outputs": [],
   "source": [
    "import glob\n",
    "import csv\n",
    "import pickle"
   ]
  },
  {
   "cell_type": "code",
   "execution_count": 9,
   "metadata": {},
   "outputs": [],
   "source": [
    "## define a function to translate the string data into a float list\n",
    "\n",
    "def str2array(string):\n",
    "    \n",
    "    together = ''\n",
    "    for i in string:\n",
    "        if(i != '['):\n",
    "            together += i\n",
    "    \n",
    "    first = together.split(\"],\")\n",
    "    ret = []\n",
    "    \n",
    "    for i in range(len(first)):\n",
    "        if(i==len(first)-1):\n",
    "            second = ''\n",
    "            for j in first[i]:\n",
    "                if(j!=']'):\n",
    "                    second += j\n",
    "            second = second.split(\",\")\n",
    "        else:\n",
    "            second = first[i].split(\",\")\n",
    "        ret.append([float(second[0]), float(second[1])])\n",
    "    return ret"
   ]
  },
  {
   "cell_type": "code",
   "execution_count": 12,
   "metadata": {},
   "outputs": [],
   "source": [
    "## read in the data and seperate it into two parts\n",
    "## (one set is the fully recorded data, the other one is the set of not complete data)\n",
    "files = glob.glob(\"./split_data/part*.csv\")\n",
    "data_false = []\n",
    "data_true = []\n",
    "for table in files:\n",
    "    with open(table,'r') as file:\n",
    "        lines = list(csv.reader(file))\n",
    "        for i in range(1, len(lines)):\n",
    "            if(len(lines[i])==0):\n",
    "                continue\n",
    "            if(lines[i][7]==\"False\"):\n",
    "                if(len(lines[i][8])==2):\n",
    "                    data_false.append([])\n",
    "                else:\n",
    "                    track = str2array(lines[i][8])\n",
    "                    data_false.append(track)\n",
    "            elif(lines[i][7]==\"True\"):\n",
    "                if(len(lines[i][8])==2):\n",
    "                    data_true.append([])\n",
    "                else:\n",
    "                    track = str2array(lines[i][8])\n",
    "                    data_true.append(track)"
   ]
  },
  {
   "cell_type": "code",
   "execution_count": 13,
   "metadata": {},
   "outputs": [],
   "source": [
    "## save the data into a pickle file\n",
    "data_dict = {'data_true': data_true, 'data_false': data_false}\n",
    "with open('./trackdata.pickle','wb') as file:\n",
    "    pickle.dump(data_dict, file)"
   ]
  },
  {
   "cell_type": "code",
   "execution_count": null,
   "metadata": {},
   "outputs": [],
   "source": []
  }
 ],
 "metadata": {
  "anaconda-cloud": {},
  "kernelspec": {
   "display_name": "Python [default]",
   "language": "python",
   "name": "python3"
  },
  "language_info": {
   "codemirror_mode": {
    "name": "ipython",
    "version": 3
   },
   "file_extension": ".py",
   "mimetype": "text/x-python",
   "name": "python",
   "nbconvert_exporter": "python",
   "pygments_lexer": "ipython3",
   "version": "3.6.5"
  },
  "widgets": {
   "state": {},
   "version": "1.1.2"
  }
 },
 "nbformat": 4,
 "nbformat_minor": 1
}
