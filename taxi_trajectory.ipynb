{
 "cells": [
  {
   "cell_type": "code",
   "execution_count": 4,
   "metadata": {},
   "outputs": [],
   "source": [
    "import glob\n",
    "import csv\n",
    "import pickle\n",
    "import numpy as np"
   ]
  },
  {
   "cell_type": "code",
   "execution_count": 5,
   "metadata": {},
   "outputs": [],
   "source": [
    "## define a function to translate the string data into a float list\n",
    "\n",
    "def str2array(string):\n",
    "    \n",
    "    together = ''\n",
    "    for i in string:\n",
    "        if(i != '['):\n",
    "            together += i\n",
    "    \n",
    "    first = together.split(\"],\")\n",
    "    ret = []\n",
    "    \n",
    "    for i in range(len(first)):\n",
    "        if(i==len(first)-1):\n",
    "            second = ''\n",
    "            for j in first[i]:\n",
    "                if(j!=']'):\n",
    "                    second += j\n",
    "            second = second.split(\",\")\n",
    "        else:\n",
    "            second = first[i].split(\",\")\n",
    "        ret.append([float(second[0]), float(second[1])])\n",
    "    return ret"
   ]
  },
  {
   "cell_type": "code",
   "execution_count": 12,
   "metadata": {},
   "outputs": [],
   "source": [
    "## read in the data and seperate it into two parts\n",
    "## (one set is the fully recorded data, the other one is the set of not complete data)\n",
    "files = glob.glob(\"./split_data/part*.csv\")\n",
    "data_false = []\n",
    "data_true = []\n",
    "for table in files:\n",
    "    with open(table,'r') as file:\n",
    "        lines = list(csv.reader(file))\n",
    "        for i in range(1, len(lines)):\n",
    "            if(len(lines[i])==0):\n",
    "                continue\n",
    "            if(lines[i][7]==\"False\"):\n",
    "                if(len(lines[i][8])==2):\n",
    "                    data_false.append([])\n",
    "                else:\n",
    "                    track = str2array(lines[i][8])\n",
    "                    data_false.append(track)\n",
    "            elif(lines[i][7]==\"True\"):\n",
    "                if(len(lines[i][8])==2):\n",
    "                    data_true.append([])\n",
    "                else:\n",
    "                    track = str2array(lines[i][8])\n",
    "                    data_true.append(track)"
   ]
  },
  {
   "cell_type": "code",
   "execution_count": 13,
   "metadata": {},
   "outputs": [],
   "source": [
    "## save the data into a pickle file\n",
    "data_dict = {'data_true': data_true, 'data_false': data_false}\n",
    "with open('./trackdata.pickle','wb') as file:\n",
    "    pickle.dump(data_dict, file)"
   ]
  },
  {
   "cell_type": "code",
   "execution_count": 2,
   "metadata": {},
   "outputs": [],
   "source": [
    "with open('./trackdata.pickle', 'rb') as file:\n",
    "    data_dict = pickle.load(file)\n",
    "    data_true = data_dict['data_true']\n",
    "    data_false = data_dict['data_false']    "
   ]
  },
  {
   "cell_type": "code",
   "execution_count": 6,
   "metadata": {},
   "outputs": [],
   "source": [
    "## define a function for selecting track data\n",
    "\n",
    "def select_data(track, place):\n",
    "    ret = []\n",
    "    for i in place:\n",
    "        ret.append(track[i])\n",
    "    return ret"
   ]
  },
  {
   "cell_type": "code",
   "execution_count": 7,
   "metadata": {},
   "outputs": [],
   "source": [
    "## explore the maximum and minimum length of the track data\n",
    "\n",
    "def find_maxmin(data):\n",
    "    maximum = 0\n",
    "    minimum = 99999\n",
    "    for track in data:\n",
    "        if(len(track) > maximum):\n",
    "            maximum = len(track)\n",
    "        if(len(track) < minimum):\n",
    "            minimum = len(track)\n",
    "    return maximum, minimum"
   ]
  },
  {
   "cell_type": "code",
   "execution_count": 22,
   "metadata": {},
   "outputs": [
    {
     "name": "stdout",
     "output_type": "stream",
     "text": [
      "Track in data_false:\n",
      "Maximum: 3881, minimum: 0\n",
      "Track in data_true:\n",
      "Maximum: 483, minimum: 1\n"
     ]
    }
   ],
   "source": [
    "max_false, min_false = find_maxmin(data_false)\n",
    "max_true, min_true = find_maxmin(data_true)\n",
    "\n",
    "print(\"Track in data_false:\")\n",
    "print(\"Maximum: %d, minimum: %d\" % (max_false, min_false))\n",
    "\n",
    "print(\"Track in data_true:\")\n",
    "print(\"Maximum: %d, minimum: %d\" % (max_true, min_true))"
   ]
  },
  {
   "cell_type": "code",
   "execution_count": 8,
   "metadata": {},
   "outputs": [],
   "source": [
    "## explore the distribution of the track length\n",
    "\n",
    "def count(data, number = 10, maximum = 4000):\n",
    "    count_num = []\n",
    "    part = maximum//number\n",
    "    level = part*np.array(range(1+number))\n",
    "    print(\"level is:\", level)\n",
    "    \n",
    "    for i in range(number):\n",
    "        count_num.append(0)\n",
    "    \n",
    "    for line in data:\n",
    "        for i in range(len(level)-1):\n",
    "            if((len(line) < level[i+1]) & (len(line) >= level[i])):\n",
    "                count_num[i] += 1\n",
    "                continue\n",
    "    return count_num"
   ]
  },
  {
   "cell_type": "code",
   "execution_count": 38,
   "metadata": {},
   "outputs": [
    {
     "name": "stdout",
     "output_type": "stream",
     "text": [
      "level is: [   0  400  800 1200 1600 2000 2400 2800 3200 3600 4000]\n",
      "[1707207, 2808, 437, 105, 58, 26, 12, 2, 2, 3]\n"
     ]
    }
   ],
   "source": [
    "num_false = count(data_false)\n",
    "print(num_false)"
   ]
  },
  {
   "cell_type": "code",
   "execution_count": 39,
   "metadata": {},
   "outputs": [
    {
     "name": "stdout",
     "output_type": "stream",
     "text": [
      "The amount of the data_false is: 1710660\n"
     ]
    }
   ],
   "source": [
    "print(\"The amount of the data_false is:\", len(data_false))"
   ]
  },
  {
   "cell_type": "code",
   "execution_count": 40,
   "metadata": {},
   "outputs": [
    {
     "name": "stdout",
     "output_type": "stream",
     "text": [
      "level is: [  0  50 100 150 200 250 300 350 400 450 500]\n",
      "[6, 2, 0, 0, 0, 1, 0, 0, 0, 1]\n",
      "The amount of the data_true is: 10\n"
     ]
    }
   ],
   "source": [
    "num_true = count(data_true, maximum = 500)\n",
    "print(num_true)\n",
    "print(\"The amount of the data_true is:\", len(data_true))"
   ]
  },
  {
   "cell_type": "code",
   "execution_count": 9,
   "metadata": {},
   "outputs": [],
   "source": [
    "## explore the number of the track which is above a value\n",
    "\n",
    "def above(data, level):\n",
    "    count = 0\n",
    "    for line in data:\n",
    "        if(len(line)>=level):\n",
    "            count += 1            \n",
    "    return count"
   ]
  },
  {
   "cell_type": "code",
   "execution_count": 31,
   "metadata": {},
   "outputs": [
    {
     "name": "stdout",
     "output_type": "stream",
     "text": [
      "The number of track with the length above 10 in data_false is: 1641024, 95.93%\n"
     ]
    }
   ],
   "source": [
    "level = 10\n",
    "percent = above(data_false, level)/len(data_false)\n",
    "print(\"The number of track with the length above %d in data_false is: %d, %.2f%%\" % \n",
    "      (level, above(data_false, level), percent*100))"
   ]
  },
  {
   "cell_type": "code",
   "execution_count": 23,
   "metadata": {},
   "outputs": [
    {
     "name": "stdout",
     "output_type": "stream",
     "text": [
      "The number of track with the length above 20 in data_false is: 1514478, 88.53%\n"
     ]
    }
   ],
   "source": [
    "level = 20\n",
    "percent = above(data_false, level)/len(data_false)\n",
    "print(\"The number of track with the length above %d in data_false is: %d, %.2f%%\" % \n",
    "      (level, above(data_false, level), percent*100))"
   ]
  },
  {
   "cell_type": "code",
   "execution_count": 24,
   "metadata": {},
   "outputs": [
    {
     "name": "stdout",
     "output_type": "stream",
     "text": [
      "The number of track with the length above 30 in data_false is: 1233766, 72.12%\n"
     ]
    }
   ],
   "source": [
    "level = 30\n",
    "percent = above(data_false, level)/len(data_false)\n",
    "print(\"The number of track with the length above %d in data_false is: %d, %.2f%%\" % \n",
    "      (level, above(data_false, level), percent*100))"
   ]
  },
  {
   "cell_type": "code",
   "execution_count": 25,
   "metadata": {},
   "outputs": [
    {
     "name": "stdout",
     "output_type": "stream",
     "text": [
      "The number of track with the length above 40 in data_false is: 910451, 53.22%\n"
     ]
    }
   ],
   "source": [
    "level = 40\n",
    "percent = above(data_false, level)/len(data_false)\n",
    "print(\"The number of track with the length above %d in data_false is: %d, %.2f%%\" % \n",
    "      (level, above(data_false, level), percent*100))"
   ]
  },
  {
   "cell_type": "code",
   "execution_count": 26,
   "metadata": {},
   "outputs": [
    {
     "name": "stdout",
     "output_type": "stream",
     "text": [
      "The number of track with the length above 50 in data_false is: 628873, 36.76%\n"
     ]
    }
   ],
   "source": [
    "level = 50\n",
    "percent = above(data_false, level)/len(data_false)\n",
    "print(\"The number of track with the length above %d in data_false is: %d, %.2f%%\" % \n",
    "      (level, above(data_false, level), percent*100))"
   ]
  },
  {
   "cell_type": "code",
   "execution_count": 27,
   "metadata": {},
   "outputs": [
    {
     "name": "stdout",
     "output_type": "stream",
     "text": [
      "The number of track with the length above 60 in data_false is: 416203, 24.33%\n"
     ]
    }
   ],
   "source": [
    "level = 60\n",
    "percent = above(data_false, level)/len(data_false)\n",
    "print(\"The number of track with the length above %d in data_false is: %d, %.2f%%\" % \n",
    "      (level, above(data_false, level), percent*100))"
   ]
  },
  {
   "cell_type": "code",
   "execution_count": 28,
   "metadata": {},
   "outputs": [
    {
     "name": "stdout",
     "output_type": "stream",
     "text": [
      "The number of track with the length above 70 in data_false is: 273018, 15.96%\n"
     ]
    }
   ],
   "source": [
    "level = 70\n",
    "percent = above(data_false, level)/len(data_false)\n",
    "print(\"The number of track with the length above %d in data_false is: %d, %.2f%%\" % \n",
    "      (level, above(data_false, level), percent*100))"
   ]
  },
  {
   "cell_type": "code",
   "execution_count": 29,
   "metadata": {},
   "outputs": [
    {
     "name": "stdout",
     "output_type": "stream",
     "text": [
      "The number of track with the length above 100 in data_false is: 93798, 5.48%\n"
     ]
    }
   ],
   "source": [
    "level = 100\n",
    "percent = above(data_false, level)/len(data_false)\n",
    "print(\"The number of track with the length above %d in data_false is: %d, %.2f%%\" % \n",
    "      (level, above(data_false, level), percent*100))"
   ]
  },
  {
   "cell_type": "code",
   "execution_count": 30,
   "metadata": {},
   "outputs": [
    {
     "name": "stdout",
     "output_type": "stream",
     "text": [
      "The number of track with the length above 200 in data_false is: 15145, 0.89%\n"
     ]
    }
   ],
   "source": [
    "level = 200\n",
    "percent = above(data_false, level)/len(data_false)\n",
    "print(\"The number of track with the length above %d in data_false is: %d, %.2f%%\" % \n",
    "      (level, above(data_false, level), percent*100))"
   ]
  },
  {
   "cell_type": "code",
   "execution_count": null,
   "metadata": {},
   "outputs": [],
   "source": []
  }
 ],
 "metadata": {
  "anaconda-cloud": {},
  "kernelspec": {
   "display_name": "Python [default]",
   "language": "python",
   "name": "python3"
  },
  "language_info": {
   "codemirror_mode": {
    "name": "ipython",
    "version": 3
   },
   "file_extension": ".py",
   "mimetype": "text/x-python",
   "name": "python",
   "nbconvert_exporter": "python",
   "pygments_lexer": "ipython3",
   "version": "3.6.5"
  },
  "widgets": {
   "state": {},
   "version": "1.1.2"
  }
 },
 "nbformat": 4,
 "nbformat_minor": 1
}
