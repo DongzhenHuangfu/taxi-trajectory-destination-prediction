{
 "cells": [
  {
   "cell_type": "markdown",
   "metadata": {},
   "source": [
    "## Import the labrary and define the function"
   ]
  },
  {
   "cell_type": "code",
   "execution_count": 2,
   "metadata": {},
   "outputs": [],
   "source": [
    "import glob\n",
    "import csv\n",
    "import pickle\n",
    "import numpy as np\n",
    "from sklearn.model_selection import train_test_split\n",
    "import tensorflow as tf\n",
    "from  sklearn.utils import shuffle\n",
    "from tensorflow.contrib.layers import flatten"
   ]
  },
  {
   "cell_type": "code",
   "execution_count": 3,
   "metadata": {},
   "outputs": [],
   "source": [
    "## define a function to translate the string data into a float list\n",
    "\n",
    "def str2array(string):    \n",
    "    together = ''\n",
    "    for i in string:\n",
    "        if(i != '['):\n",
    "            together += i\n",
    "    \n",
    "    first = together.split(\"],\")\n",
    "    ret = []\n",
    "    \n",
    "    for i in range(len(first)):\n",
    "        if(i==len(first)-1):\n",
    "            second = ''\n",
    "            for j in first[i]:\n",
    "                if(j!=']'):\n",
    "                    second += j\n",
    "            second = second.split(\",\")\n",
    "        else:\n",
    "            second = first[i].split(\",\")\n",
    "        ret.append([float(second[0]), float(second[1])])\n",
    "    return ret\n",
    "\n",
    "## define a function for exploring the maximum and minimum length of the track data\n",
    "\n",
    "def find_maxmin(data):\n",
    "    maximum = 0\n",
    "    minimum = 99999\n",
    "    for track in data:\n",
    "        if(len(track) > maximum):\n",
    "            maximum = len(track)\n",
    "        if(len(track) < minimum):\n",
    "            minimum = len(track)\n",
    "    return maximum, minimum\n",
    "\n",
    "## def a functino for exploring the distribution of the track length\n",
    "\n",
    "def count(data, number = 10, maximum = 4000):\n",
    "    count_num = []\n",
    "    part = maximum//number\n",
    "    level = part*np.array(range(1+number))\n",
    "    print(\"level is:\", level)\n",
    "    \n",
    "    for i in range(number):\n",
    "        count_num.append(0)\n",
    "    \n",
    "    for line in data:\n",
    "        for i in range(len(level)-1):\n",
    "            if((len(line) < level[i+1]) & (len(line) >= level[i])):\n",
    "                count_num[i] += 1\n",
    "                continue\n",
    "    return count_num\n",
    "\n",
    "## define a function for exploring the number of the track which is above a value\n",
    "\n",
    "def above(data, level):\n",
    "    count = 0\n",
    "    for line in data:\n",
    "        if(len(line)>=level):\n",
    "            count += 1            \n",
    "    return count\n",
    "\n",
    "## define a function for selecting track data\n",
    "\n",
    "def select_data(track, place):\n",
    "    ret = []\n",
    "    for i in place:\n",
    "        ret.append(track[i])\n",
    "    return ret\n",
    "\n",
    "def pick_data(data, data_length):\n",
    "    ret_train = []\n",
    "    ret_label = []\n",
    "    n = 0\n",
    "    for i in range(len(data)):\n",
    "        if(len(data[i]) > data_length):\n",
    "            split = len(data[i])//data_length\n",
    "            ret_train.append([])\n",
    "            for j in range(data_length):\n",
    "                ret_train[n].append(data[i][split*j])\n",
    "            ret_label.append(data[i][len(data[i])-1])\n",
    "            n += 1\n",
    "    return ret_train, ret_label"
   ]
  },
  {
   "cell_type": "markdown",
   "metadata": {},
   "source": [
    "## Import the data"
   ]
  },
  {
   "cell_type": "code",
   "execution_count": 4,
   "metadata": {},
   "outputs": [],
   "source": [
    "with open('../train_data.pickle', 'rb') as file:\n",
    "    data_dict = pickle.load(file)\n",
    "    train_data = data_dict['train_data10']\n",
    "    train_label = data_dict['train_label10']    "
   ]
  },
  {
   "cell_type": "code",
   "execution_count": 7,
   "metadata": {},
   "outputs": [
    {
     "name": "stdout",
     "output_type": "stream",
     "text": [
      "[-8.618643, 41.141412, -8.620326, 41.14251, -8.623953, 41.144373, -8.627373, 41.144697, -8.632746, 41.14692, -8.629938, 41.150385, -8.629128, 41.15124, -8.628687, 41.152374, -8.630838, 41.15268, -8.631144, 41.154489]\n",
      "\n",
      "[[-8.630838, 41.154489], [-8.66574, 41.170671], [-8.61597, 41.14053], [-8.607996, 41.142915], [-8.687268, 41.178087], [-8.578224, 41.160717], [-8.603973, 41.142816], [-8.6247, 41.161554], [-8.589402, 41.163309], [-8.604594, 41.134158], [-8.60949, 41.157351], [-8.623017, 41.164218], [-8.575065, 41.162265], [-8.632737, 41.168295], [-8.606772, 41.15826], [-8.628147, 41.157522], [-8.641566, 41.142672], [-8.662554, 41.181714], [-8.584326, 41.169258], [-8.621064, 41.16114], [-8.601894, 41.181813], [-8.60247, 41.15592], [-8.579763, 41.167899], [-8.654337, 41.187816], [-8.58825, 41.097357], [-8.611596, 41.150439], [-8.613315, 41.166891], [-8.619993, 41.146839], [-8.59194, 41.168187], [-8.620371, 41.147199], [-8.612748, 41.182056], [-8.641998, 41.131953], [-8.614854, 41.163147], [-8.587044, 41.096412], [-8.623116, 41.164209], [-8.604603, 41.15961], [-8.607465, 41.145489], [-8.642079, 41.144184], [-8.637129, 41.158638], [-8.61552, 41.142636], [-8.645436, 41.164578], [-8.605017, 41.151915], [-8.693028, 41.203188], [-8.662923, 41.163426], [-8.702928, 41.189877], [-8.605845, 41.162013], [-8.608437, 41.153562], [-8.610039, 41.175639], [-8.654067, 41.149332], [-8.645607, 41.154363], [-8.614773, 41.149998], [-8.583957, 41.163237], [-8.641737, 41.164983], [-8.583174, 41.16474], [-8.568558, 41.193315], [-8.623071, 41.164209], [-8.610093, 41.15394], [-8.666676, 41.174046], [-8.678295, 41.158665], [-8.623188, 41.164209], [-8.580492, 41.164884], [-8.636625, 41.169141], [-8.620146, 41.147019], [-8.597655, 41.146866], [-8.566137, 41.153733], [-8.549334, 41.129505], [-8.560413, 41.154507], [-8.651862, 41.153346], [-8.616465, 41.160087], [-8.587143, 41.162436], [-8.600562, 41.1579], [-8.602524, 41.147325], [-8.599419, 41.144094], [-8.615232, 41.140944], [-8.605467, 41.160141], [-8.604756, 41.154732], [-8.652456, 41.186511], [-8.62623, 41.174514], [-8.603946, 41.161608], [-8.613072, 41.140341], [-8.613387, 41.164209], [-8.626284, 41.180724], [-8.567235, 41.160285], [-8.556534, 41.137272], [-8.654634, 41.190984], [-8.652366, 41.190606], [-8.547372, 41.188608], [-8.622963, 41.164155], [-8.660259, 41.159052], [-8.647695, 41.150682], [-8.623395, 41.164218], [-8.611344, 41.147775], [-8.59707, 41.157036], [-8.586945, 41.133861], [-8.637498, 41.159367], [-8.610552, 41.170599], [-8.563455, 41.135913], [-8.635536, 41.158863], [-8.606322, 41.144706], [-8.559153, 41.177214]]\n"
     ]
    }
   ],
   "source": [
    "print(train_data[0])\n",
    "print()\n",
    "print(train_label[:100])"
   ]
  },
  {
   "cell_type": "code",
   "execution_count": 8,
   "metadata": {},
   "outputs": [],
   "source": [
    "## divide the area into n parts, only predict the area for the destination\n",
    "max_x = -99999.;\n",
    "max_y = -99999.;\n",
    "min_x = 99999.;\n",
    "min_y = 99999.;\n",
    "\n",
    "for point in train_label:\n",
    "    if max_x < point[0]: max_x = point[0]\n",
    "    if max_y < point[1]: max_y = point[1]\n",
    "    if min_x > point[0]: min_x = point[0]\n",
    "    if min_y > point[1]: min_y = point[1]"
   ]
  },
  {
   "cell_type": "code",
   "execution_count": 9,
   "metadata": {},
   "outputs": [
    {
     "name": "stdout",
     "output_type": "stream",
     "text": [
      "-13.476465 38.53413 -5.793111 44.119224\n"
     ]
    }
   ],
   "source": [
    "print(min_x, min_y, max_x, max_y)"
   ]
  },
  {
   "cell_type": "code",
   "execution_count": 20,
   "metadata": {},
   "outputs": [
    {
     "name": "stdout",
     "output_type": "stream",
     "text": [
      "Together 3600 areas\n"
     ]
    }
   ],
   "source": [
    "div_len = 0.16\n",
    "area = []\n",
    "labels = []\n",
    "x = min_x\n",
    "y = min_y\n",
    "i = 0\n",
    "while(x < max_x + div_len):\n",
    "    y = min_y\n",
    "    while(y < max_y + div_len):\n",
    "        area.append([x, y])\n",
    "        y += div_len\n",
    "    i += 1\n",
    "    x += div_len\n",
    "    \n",
    "print(\"Together %d areas\" % (len(area) * len(area[0])))"
   ]
  },
  {
   "cell_type": "code",
   "execution_count": 21,
   "metadata": {},
   "outputs": [
    {
     "name": "stdout",
     "output_type": "stream",
     "text": [
      "[[-13.476465, 38.53413], [-13.476465, 38.694129999999994], [-13.476465, 38.85412999999999], [-13.476465, 39.01412999999999], [-13.476465, 39.174129999999984], [-13.476465, 39.33412999999998], [-13.476465, 39.49412999999998], [-13.476465, 39.654129999999974], [-13.476465, 39.81412999999997], [-13.476465, 39.97412999999997], [-13.476465, 40.13412999999996], [-13.476465, 40.29412999999996], [-13.476465, 40.45412999999996], [-13.476465, 40.61412999999995], [-13.476465, 40.77412999999995], [-13.476465, 40.934129999999946], [-13.476465, 41.09412999999994], [-13.476465, 41.25412999999994], [-13.476465, 41.414129999999936], [-13.476465, 41.57412999999993], [-13.476465, 41.73412999999993], [-13.476465, 41.894129999999926], [-13.476465, 42.05412999999992], [-13.476465, 42.21412999999992], [-13.476465, 42.374129999999916], [-13.476465, 42.53412999999991], [-13.476465, 42.69412999999991], [-13.476465, 42.854129999999905], [-13.476465, 43.0141299999999], [-13.476465, 43.1741299999999], [-13.476465, 43.334129999999895], [-13.476465, 43.49412999999989], [-13.476465, 43.65412999999989], [-13.476465, 43.814129999999885], [-13.476465, 43.97412999999988], [-13.476465, 44.13412999999988], [-13.316464999999999, 38.53413], [-13.316464999999999, 38.694129999999994], [-13.316464999999999, 38.85412999999999], [-13.316464999999999, 39.01412999999999], [-13.316464999999999, 39.174129999999984], [-13.316464999999999, 39.33412999999998], [-13.316464999999999, 39.49412999999998], [-13.316464999999999, 39.654129999999974], [-13.316464999999999, 39.81412999999997], [-13.316464999999999, 39.97412999999997], [-13.316464999999999, 40.13412999999996], [-13.316464999999999, 40.29412999999996], [-13.316464999999999, 40.45412999999996], [-13.316464999999999, 40.61412999999995], [-13.316464999999999, 40.77412999999995], [-13.316464999999999, 40.934129999999946], [-13.316464999999999, 41.09412999999994], [-13.316464999999999, 41.25412999999994], [-13.316464999999999, 41.414129999999936], [-13.316464999999999, 41.57412999999993], [-13.316464999999999, 41.73412999999993], [-13.316464999999999, 41.894129999999926], [-13.316464999999999, 42.05412999999992], [-13.316464999999999, 42.21412999999992], [-13.316464999999999, 42.374129999999916], [-13.316464999999999, 42.53412999999991], [-13.316464999999999, 42.69412999999991], [-13.316464999999999, 42.854129999999905], [-13.316464999999999, 43.0141299999999], [-13.316464999999999, 43.1741299999999], [-13.316464999999999, 43.334129999999895], [-13.316464999999999, 43.49412999999989], [-13.316464999999999, 43.65412999999989], [-13.316464999999999, 43.814129999999885], [-13.316464999999999, 43.97412999999988], [-13.316464999999999, 44.13412999999988], [-13.156464999999999, 38.53413], [-13.156464999999999, 38.694129999999994], [-13.156464999999999, 38.85412999999999], [-13.156464999999999, 39.01412999999999], [-13.156464999999999, 39.174129999999984], [-13.156464999999999, 39.33412999999998], [-13.156464999999999, 39.49412999999998], [-13.156464999999999, 39.654129999999974], [-13.156464999999999, 39.81412999999997], [-13.156464999999999, 39.97412999999997], [-13.156464999999999, 40.13412999999996], [-13.156464999999999, 40.29412999999996], [-13.156464999999999, 40.45412999999996], [-13.156464999999999, 40.61412999999995], [-13.156464999999999, 40.77412999999995], [-13.156464999999999, 40.934129999999946], [-13.156464999999999, 41.09412999999994], [-13.156464999999999, 41.25412999999994], [-13.156464999999999, 41.414129999999936], [-13.156464999999999, 41.57412999999993], [-13.156464999999999, 41.73412999999993], [-13.156464999999999, 41.894129999999926], [-13.156464999999999, 42.05412999999992], [-13.156464999999999, 42.21412999999992], [-13.156464999999999, 42.374129999999916], [-13.156464999999999, 42.53412999999991], [-13.156464999999999, 42.69412999999991], [-13.156464999999999, 42.854129999999905]]\n"
     ]
    }
   ],
   "source": [
    "print(area[:100])"
   ]
  },
  {
   "cell_type": "code",
   "execution_count": 35,
   "metadata": {},
   "outputs": [],
   "source": [
    "labels = []\n",
    "for point in train_label:\n",
    "    find = False    \n",
    "    for i in range(len(area) - 1):\n",
    "        if((point[0] < area[i][0]) & (point[0] < area[i][1])):\n",
    "            find = True \n",
    "            labels.append(i)\n",
    "            break\n",
    "    if not find:\n",
    "        print(\"Error at i = %d\" % i)\n",
    "        print(\"Point:\", point)\n",
    "        break"
   ]
  },
  {
   "cell_type": "code",
   "execution_count": 36,
   "metadata": {},
   "outputs": [
    {
     "name": "stdout",
     "output_type": "stream",
     "text": [
      "1635931 1635931 1635931\n"
     ]
    }
   ],
   "source": [
    "print(len(labels), len(train_data), len(train_label))"
   ]
  },
  {
   "cell_type": "code",
   "execution_count": 38,
   "metadata": {},
   "outputs": [],
   "source": [
    "## count how many times a label shows up\n",
    "count = []\n",
    "showup = []\n",
    "for index in labels:\n",
    "    add = True\n",
    "    for i in range(len(showup)):\n",
    "        if(showup[i] == index):\n",
    "            add = False\n",
    "            count[i] += 1\n",
    "    if(add): \n",
    "        showup.append(index)\n",
    "        count.append(1)"
   ]
  },
  {
   "cell_type": "code",
   "execution_count": 39,
   "metadata": {},
   "outputs": [
    {
     "name": "stdout",
     "output_type": "stream",
     "text": [
      "1116  : 1555682\n",
      "1080  : 72310\n",
      "1152  : 6191\n",
      "1296  : 114\n",
      "1224  : 235\n",
      "1188  : 997\n",
      "1008  : 46\n",
      "1044  : 44\n",
      "1476  : 11\n",
      "1332  : 52\n",
      "1440  : 16\n",
      "1260  : 125\n",
      "972   : 13\n",
      "1368  : 43\n",
      "936   : 8\n",
      "1548  : 6\n",
      "1404  : 27\n",
      "1656  : 2\n",
      "1620  : 1\n",
      "1512  : 6\n",
      "36    : 1\n",
      "1764  : 1\n"
     ]
    }
   ],
   "source": [
    "for i in range(len(showup)):\n",
    "    print(\"{0:<5}\".format(showup[i]), ':', count[i])"
   ]
  },
  {
   "cell_type": "markdown",
   "metadata": {},
   "source": [
    "## Split data into train, validation and test data"
   ]
  },
  {
   "cell_type": "code",
   "execution_count": 40,
   "metadata": {},
   "outputs": [],
   "source": [
    "x_train, x_test, y_train, y_test = train_test_split(train_data, labels, test_size = 0.3, random_state = 42)"
   ]
  },
  {
   "cell_type": "code",
   "execution_count": 41,
   "metadata": {},
   "outputs": [],
   "source": [
    "## save the data into a pickle file\n",
    "# need to save: data, area, labels_for_train\n",
    "data_dict = {'x_train': x_train, 'x_test': x_test, 'y_train': y_train, 'y_test': y_test, \"area\": area,\n",
    "            \"labels\": labels}\n",
    "with open('./data/train_for_deepstructure_area.pickle','wb') as file:\n",
    "    pickle.dump(data_dict, file)"
   ]
  },
  {
   "cell_type": "code",
   "execution_count": 3,
   "metadata": {},
   "outputs": [],
   "source": [
    "with open('./data/train_for_deepstructure_area.pickle', 'rb') as file:\n",
    "    data_dict = pickle.load(file)\n",
    "    x_train = data_dict['x_train']\n",
    "    x_test = data_dict['x_test']    \n",
    "    y_train = data_dict['y_train']\n",
    "    y_test = data_dict['y_test']\n",
    "    area = data_dict['area']\n",
    "    labels = data_dict['labels']"
   ]
  },
  {
   "cell_type": "markdown",
   "metadata": {},
   "source": [
    "# Build an easy network"
   ]
  },
  {
   "cell_type": "code",
   "execution_count": 10,
   "metadata": {},
   "outputs": [],
   "source": [
    "x = tf.placeholder(tf.float32,(None, 20))\n",
    "\n",
    "# Arguments used for tf.truncated_normal, randomly defines variables for the weights and biases for each layer\n",
    "mu = 0\n",
    "sigma = 0.1\n",
    "\n",
    "# Layer 1: Input = 20. Output = 3600.\n",
    "fc1_W = tf.Variable(tf.truncated_normal(shape=(20, 1000), mean = mu, stddev = sigma))\n",
    "fc1_b = tf.Variable(tf.zeros(1000))\n",
    "fc1_lin   = tf.matmul(x, fc1_W) + fc1_b\n",
    "\n",
    "# Activation.\n",
    "fc1 = tf.nn.relu(fc1_lin)\n",
    "\n",
    "# Layer 2: Input = 1000. Output = 3600.\n",
    "fc2_W = tf.Variable(tf.truncated_normal(shape=(1000, 3600), mean = mu, stddev = sigma))\n",
    "fc2_b = tf.Variable(tf.zeros(3600))\n",
    "logits   = tf.matmul(fc1, fc2_W) + fc2_b"
   ]
  },
  {
   "cell_type": "code",
   "execution_count": 11,
   "metadata": {},
   "outputs": [],
   "source": [
    "y = tf.placeholder(tf.int32,(None))\n",
    "one_hot_y = tf.one_hot(y,3600)\n",
    "\n",
    "learning_rate = 0.001\n",
    "\n",
    "cross_entropy = tf.nn.softmax_cross_entropy_with_logits(labels = one_hot_y, logits = logits)\n",
    "loss_operation = tf.reduce_mean(cross_entropy)\n",
    "optimizer = tf.train.AdamOptimizer(learning_rate = learning_rate)\n",
    "training_operation = optimizer.minimize(loss_operation)\n",
    "\n",
    "saver = tf.train.Saver()"
   ]
  },
  {
   "cell_type": "code",
   "execution_count": 12,
   "metadata": {},
   "outputs": [],
   "source": [
    "# tensorflow parameters\n",
    "epoches = 50\n",
    "batch_size = 128"
   ]
  },
  {
   "cell_type": "code",
   "execution_count": 13,
   "metadata": {},
   "outputs": [],
   "source": [
    "## Evaluation accuracy\n",
    "\n",
    "correct_prediction = tf.equal(tf.argmax(logits, 1), tf.argmax(one_hot_y, 1))\n",
    "accuracy_operation = tf.reduce_mean(tf.cast(correct_prediction, tf.float32))\n",
    "\n",
    "def evaluate(X_data, y_data):\n",
    "    num_examples = len(X_data)\n",
    "    total_accuracy = 0\n",
    "    sess = tf.get_default_session()\n",
    "    for offset in range(0, num_examples, batch_size):\n",
    "        batch_x, batch_y = X_data[offset:offset+batch_size], y_data[offset:offset+batch_size]\n",
    "        accuracy = sess.run(accuracy_operation, feed_dict={x: batch_x, y: batch_y})\n",
    "        total_accuracy += (accuracy * len(batch_x))\n",
    "    return total_accuracy / num_examples"
   ]
  },
  {
   "cell_type": "code",
   "execution_count": 14,
   "metadata": {
    "scrolled": false
   },
   "outputs": [
    {
     "name": "stdout",
     "output_type": "stream",
     "text": [
      "Training ......\n",
      "\n",
      "Model saved with accuracy: 0.9510228615682726\n",
      "EPOCH 1 ...\n",
      "Validation Accuracy = 0.951\n",
      "\n",
      "Model saved with accuracy: 0.9510228615682726\n"
     ]
    },
    {
     "ename": "KeyboardInterrupt",
     "evalue": "",
     "output_type": "error",
     "traceback": [
      "\u001b[1;31m---------------------------------------------------------------------------\u001b[0m",
      "\u001b[1;31mKeyboardInterrupt\u001b[0m                         Traceback (most recent call last)",
      "\u001b[1;32m<ipython-input-14-83ab98762418>\u001b[0m in \u001b[0;36m<module>\u001b[1;34m()\u001b[0m\n\u001b[0;32m     14\u001b[0m                 \u001b[0mend\u001b[0m \u001b[1;33m=\u001b[0m \u001b[0moffset\u001b[0m \u001b[1;33m+\u001b[0m \u001b[0mbatch_size\u001b[0m\u001b[1;33m\u001b[0m\u001b[0m\n\u001b[0;32m     15\u001b[0m                 \u001b[0mbatch_x\u001b[0m\u001b[1;33m,\u001b[0m \u001b[0mbatch_y\u001b[0m \u001b[1;33m=\u001b[0m \u001b[0mX_train\u001b[0m\u001b[1;33m[\u001b[0m\u001b[0moffset\u001b[0m\u001b[1;33m:\u001b[0m\u001b[0mend\u001b[0m\u001b[1;33m]\u001b[0m\u001b[1;33m,\u001b[0m\u001b[0my_train\u001b[0m\u001b[1;33m[\u001b[0m\u001b[0moffset\u001b[0m\u001b[1;33m:\u001b[0m\u001b[0mend\u001b[0m\u001b[1;33m]\u001b[0m\u001b[1;33m\u001b[0m\u001b[0m\n\u001b[1;32m---> 16\u001b[1;33m                 \u001b[0msess\u001b[0m\u001b[1;33m.\u001b[0m\u001b[0mrun\u001b[0m\u001b[1;33m(\u001b[0m\u001b[0mtraining_operation\u001b[0m\u001b[1;33m,\u001b[0m\u001b[0mfeed_dict\u001b[0m \u001b[1;33m=\u001b[0m \u001b[1;33m{\u001b[0m\u001b[0mx\u001b[0m\u001b[1;33m:\u001b[0m\u001b[0mbatch_x\u001b[0m\u001b[1;33m,\u001b[0m \u001b[0my\u001b[0m\u001b[1;33m:\u001b[0m\u001b[0mbatch_y\u001b[0m\u001b[1;33m}\u001b[0m\u001b[1;33m)\u001b[0m\u001b[1;33m\u001b[0m\u001b[0m\n\u001b[0m\u001b[0;32m     17\u001b[0m \u001b[1;33m\u001b[0m\u001b[0m\n\u001b[0;32m     18\u001b[0m             \u001b[0mvalidation_accuracy\u001b[0m \u001b[1;33m=\u001b[0m \u001b[0mevaluate\u001b[0m\u001b[1;33m(\u001b[0m\u001b[0mx_test\u001b[0m\u001b[1;33m,\u001b[0m \u001b[0my_test\u001b[0m\u001b[1;33m)\u001b[0m\u001b[1;33m\u001b[0m\u001b[0m\n",
      "\u001b[1;32m~\\Miniconda3\\lib\\site-packages\\tensorflow\\python\\client\\session.py\u001b[0m in \u001b[0;36mrun\u001b[1;34m(self, fetches, feed_dict, options, run_metadata)\u001b[0m\n\u001b[0;32m    898\u001b[0m     \u001b[1;32mtry\u001b[0m\u001b[1;33m:\u001b[0m\u001b[1;33m\u001b[0m\u001b[0m\n\u001b[0;32m    899\u001b[0m       result = self._run(None, fetches, feed_dict, options_ptr,\n\u001b[1;32m--> 900\u001b[1;33m                          run_metadata_ptr)\n\u001b[0m\u001b[0;32m    901\u001b[0m       \u001b[1;32mif\u001b[0m \u001b[0mrun_metadata\u001b[0m\u001b[1;33m:\u001b[0m\u001b[1;33m\u001b[0m\u001b[0m\n\u001b[0;32m    902\u001b[0m         \u001b[0mproto_data\u001b[0m \u001b[1;33m=\u001b[0m \u001b[0mtf_session\u001b[0m\u001b[1;33m.\u001b[0m\u001b[0mTF_GetBuffer\u001b[0m\u001b[1;33m(\u001b[0m\u001b[0mrun_metadata_ptr\u001b[0m\u001b[1;33m)\u001b[0m\u001b[1;33m\u001b[0m\u001b[0m\n",
      "\u001b[1;32m~\\Miniconda3\\lib\\site-packages\\tensorflow\\python\\client\\session.py\u001b[0m in \u001b[0;36m_run\u001b[1;34m(self, handle, fetches, feed_dict, options, run_metadata)\u001b[0m\n\u001b[0;32m   1133\u001b[0m     \u001b[1;32mif\u001b[0m \u001b[0mfinal_fetches\u001b[0m \u001b[1;32mor\u001b[0m \u001b[0mfinal_targets\u001b[0m \u001b[1;32mor\u001b[0m \u001b[1;33m(\u001b[0m\u001b[0mhandle\u001b[0m \u001b[1;32mand\u001b[0m \u001b[0mfeed_dict_tensor\u001b[0m\u001b[1;33m)\u001b[0m\u001b[1;33m:\u001b[0m\u001b[1;33m\u001b[0m\u001b[0m\n\u001b[0;32m   1134\u001b[0m       results = self._do_run(handle, final_targets, final_fetches,\n\u001b[1;32m-> 1135\u001b[1;33m                              feed_dict_tensor, options, run_metadata)\n\u001b[0m\u001b[0;32m   1136\u001b[0m     \u001b[1;32melse\u001b[0m\u001b[1;33m:\u001b[0m\u001b[1;33m\u001b[0m\u001b[0m\n\u001b[0;32m   1137\u001b[0m       \u001b[0mresults\u001b[0m \u001b[1;33m=\u001b[0m \u001b[1;33m[\u001b[0m\u001b[1;33m]\u001b[0m\u001b[1;33m\u001b[0m\u001b[0m\n",
      "\u001b[1;32m~\\Miniconda3\\lib\\site-packages\\tensorflow\\python\\client\\session.py\u001b[0m in \u001b[0;36m_do_run\u001b[1;34m(self, handle, target_list, fetch_list, feed_dict, options, run_metadata)\u001b[0m\n\u001b[0;32m   1314\u001b[0m     \u001b[1;32mif\u001b[0m \u001b[0mhandle\u001b[0m \u001b[1;32mis\u001b[0m \u001b[1;32mNone\u001b[0m\u001b[1;33m:\u001b[0m\u001b[1;33m\u001b[0m\u001b[0m\n\u001b[0;32m   1315\u001b[0m       return self._do_call(_run_fn, feeds, fetches, targets, options,\n\u001b[1;32m-> 1316\u001b[1;33m                            run_metadata)\n\u001b[0m\u001b[0;32m   1317\u001b[0m     \u001b[1;32melse\u001b[0m\u001b[1;33m:\u001b[0m\u001b[1;33m\u001b[0m\u001b[0m\n\u001b[0;32m   1318\u001b[0m       \u001b[1;32mreturn\u001b[0m \u001b[0mself\u001b[0m\u001b[1;33m.\u001b[0m\u001b[0m_do_call\u001b[0m\u001b[1;33m(\u001b[0m\u001b[0m_prun_fn\u001b[0m\u001b[1;33m,\u001b[0m \u001b[0mhandle\u001b[0m\u001b[1;33m,\u001b[0m \u001b[0mfeeds\u001b[0m\u001b[1;33m,\u001b[0m \u001b[0mfetches\u001b[0m\u001b[1;33m)\u001b[0m\u001b[1;33m\u001b[0m\u001b[0m\n",
      "\u001b[1;32m~\\Miniconda3\\lib\\site-packages\\tensorflow\\python\\client\\session.py\u001b[0m in \u001b[0;36m_do_call\u001b[1;34m(self, fn, *args)\u001b[0m\n\u001b[0;32m   1320\u001b[0m   \u001b[1;32mdef\u001b[0m \u001b[0m_do_call\u001b[0m\u001b[1;33m(\u001b[0m\u001b[0mself\u001b[0m\u001b[1;33m,\u001b[0m \u001b[0mfn\u001b[0m\u001b[1;33m,\u001b[0m \u001b[1;33m*\u001b[0m\u001b[0margs\u001b[0m\u001b[1;33m)\u001b[0m\u001b[1;33m:\u001b[0m\u001b[1;33m\u001b[0m\u001b[0m\n\u001b[0;32m   1321\u001b[0m     \u001b[1;32mtry\u001b[0m\u001b[1;33m:\u001b[0m\u001b[1;33m\u001b[0m\u001b[0m\n\u001b[1;32m-> 1322\u001b[1;33m       \u001b[1;32mreturn\u001b[0m \u001b[0mfn\u001b[0m\u001b[1;33m(\u001b[0m\u001b[1;33m*\u001b[0m\u001b[0margs\u001b[0m\u001b[1;33m)\u001b[0m\u001b[1;33m\u001b[0m\u001b[0m\n\u001b[0m\u001b[0;32m   1323\u001b[0m     \u001b[1;32mexcept\u001b[0m \u001b[0merrors\u001b[0m\u001b[1;33m.\u001b[0m\u001b[0mOpError\u001b[0m \u001b[1;32mas\u001b[0m \u001b[0me\u001b[0m\u001b[1;33m:\u001b[0m\u001b[1;33m\u001b[0m\u001b[0m\n\u001b[0;32m   1324\u001b[0m       \u001b[0mmessage\u001b[0m \u001b[1;33m=\u001b[0m \u001b[0mcompat\u001b[0m\u001b[1;33m.\u001b[0m\u001b[0mas_text\u001b[0m\u001b[1;33m(\u001b[0m\u001b[0me\u001b[0m\u001b[1;33m.\u001b[0m\u001b[0mmessage\u001b[0m\u001b[1;33m)\u001b[0m\u001b[1;33m\u001b[0m\u001b[0m\n",
      "\u001b[1;32m~\\Miniconda3\\lib\\site-packages\\tensorflow\\python\\client\\session.py\u001b[0m in \u001b[0;36m_run_fn\u001b[1;34m(feed_dict, fetch_list, target_list, options, run_metadata)\u001b[0m\n\u001b[0;32m   1305\u001b[0m       \u001b[0mself\u001b[0m\u001b[1;33m.\u001b[0m\u001b[0m_extend_graph\u001b[0m\u001b[1;33m(\u001b[0m\u001b[1;33m)\u001b[0m\u001b[1;33m\u001b[0m\u001b[0m\n\u001b[0;32m   1306\u001b[0m       return self._call_tf_sessionrun(\n\u001b[1;32m-> 1307\u001b[1;33m           options, feed_dict, fetch_list, target_list, run_metadata)\n\u001b[0m\u001b[0;32m   1308\u001b[0m \u001b[1;33m\u001b[0m\u001b[0m\n\u001b[0;32m   1309\u001b[0m     \u001b[1;32mdef\u001b[0m \u001b[0m_prun_fn\u001b[0m\u001b[1;33m(\u001b[0m\u001b[0mhandle\u001b[0m\u001b[1;33m,\u001b[0m \u001b[0mfeed_dict\u001b[0m\u001b[1;33m,\u001b[0m \u001b[0mfetch_list\u001b[0m\u001b[1;33m)\u001b[0m\u001b[1;33m:\u001b[0m\u001b[1;33m\u001b[0m\u001b[0m\n",
      "\u001b[1;32m~\\Miniconda3\\lib\\site-packages\\tensorflow\\python\\client\\session.py\u001b[0m in \u001b[0;36m_call_tf_sessionrun\u001b[1;34m(self, options, feed_dict, fetch_list, target_list, run_metadata)\u001b[0m\n\u001b[0;32m   1407\u001b[0m       return tf_session.TF_SessionRun_wrapper(\n\u001b[0;32m   1408\u001b[0m           \u001b[0mself\u001b[0m\u001b[1;33m.\u001b[0m\u001b[0m_session\u001b[0m\u001b[1;33m,\u001b[0m \u001b[0moptions\u001b[0m\u001b[1;33m,\u001b[0m \u001b[0mfeed_dict\u001b[0m\u001b[1;33m,\u001b[0m \u001b[0mfetch_list\u001b[0m\u001b[1;33m,\u001b[0m \u001b[0mtarget_list\u001b[0m\u001b[1;33m,\u001b[0m\u001b[1;33m\u001b[0m\u001b[0m\n\u001b[1;32m-> 1409\u001b[1;33m           run_metadata)\n\u001b[0m\u001b[0;32m   1410\u001b[0m     \u001b[1;32melse\u001b[0m\u001b[1;33m:\u001b[0m\u001b[1;33m\u001b[0m\u001b[0m\n\u001b[0;32m   1411\u001b[0m       \u001b[1;32mwith\u001b[0m \u001b[0merrors\u001b[0m\u001b[1;33m.\u001b[0m\u001b[0mraise_exception_on_not_ok_status\u001b[0m\u001b[1;33m(\u001b[0m\u001b[1;33m)\u001b[0m \u001b[1;32mas\u001b[0m \u001b[0mstatus\u001b[0m\u001b[1;33m:\u001b[0m\u001b[1;33m\u001b[0m\u001b[0m\n",
      "\u001b[1;31mKeyboardInterrupt\u001b[0m: "
     ]
    }
   ],
   "source": [
    "# training\n",
    "# when the accuracy is high, I want to make the learning rate smaller.\n",
    "n_train = len(x_train)\n",
    "with tf.device('/cpu:0'):\n",
    "    with tf.Session() as sess:\n",
    "        sess.run(tf.global_variables_initializer())\n",
    "        print('Training ......')\n",
    "        print()\n",
    "        max_acc = 0\n",
    "\n",
    "        for i in range(epoches):\n",
    "            X_train,y_train = shuffle(x_train,y_train) # shuffle the data\n",
    "            for offset in range(0,n_train,batch_size):\n",
    "                end = offset + batch_size\n",
    "                batch_x, batch_y = X_train[offset:end],y_train[offset:end]\n",
    "                sess.run(training_operation,feed_dict = {x:batch_x, y:batch_y})\n",
    "\n",
    "            validation_accuracy = evaluate(x_test, y_test)\n",
    "            if(max_acc <= validation_accuracy):\n",
    "                max_acc = validation_accuracy\n",
    "                saver.save(sess, './result')\n",
    "                print(\"Model saved with accuracy:\", max_acc)\n",
    "            if i%5 == 0:\n",
    "                print(\"EPOCH {} ...\".format(i+1))\n",
    "                print(\"Validation Accuracy = {:.3f}\".format(validation_accuracy))\n",
    "    #             print('Can be better, continue training...')\n",
    "                print()\n",
    "\n",
    "        print(\"maximal accuracy is:\", max_acc)\n",
    "        print(\"End training\")"
   ]
  },
  {
   "cell_type": "code",
   "execution_count": null,
   "metadata": {},
   "outputs": [],
   "source": []
  }
 ],
 "metadata": {
  "anaconda-cloud": {},
  "kernelspec": {
   "display_name": "Python [default]",
   "language": "python",
   "name": "python3"
  },
  "language_info": {
   "codemirror_mode": {
    "name": "ipython",
    "version": 3
   },
   "file_extension": ".py",
   "mimetype": "text/x-python",
   "name": "python",
   "nbconvert_exporter": "python",
   "pygments_lexer": "ipython3",
   "version": "3.6.5"
  },
  "widgets": {
   "state": {},
   "version": "1.1.2"
  }
 },
 "nbformat": 4,
 "nbformat_minor": 1
}
